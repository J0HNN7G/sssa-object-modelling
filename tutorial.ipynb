{
 "cells": [
  {
   "cell_type": "code",
   "execution_count": null,
   "metadata": {},
   "outputs": [],
   "source": [
    "import os\n",
    "\n",
    "# our stuff\n",
    "from sssa.config import cfg\n",
    "from sssa.dataset import load_train_data, load_test_data, process_sample\n",
    "from sssa.utils.visualize import print_example"
   ]
  },
  {
   "cell_type": "markdown",
   "metadata": {},
   "source": [
    "### Config"
   ]
  },
  {
   "cell_type": "code",
   "execution_count": null,
   "metadata": {},
   "outputs": [],
   "source": [
    "# fill in your directory set up here\n",
    "project_dp = os.path.expanduser('~/git/sssa-object-modelling/')\n",
    "config_fp = os.path.join(project_dp, f'cfg/templates/sssa-movi_b.yaml')\n",
    "cfg.merge_from_file(config_fp)\n",
    "cfg.DATA.path = os.path.join(project_dp, 'data/sets/')\n",
    "print(cfg)"
   ]
  },
  {
   "cell_type": "markdown",
   "metadata": {},
   "source": [
    "### Data"
   ]
  },
  {
   "cell_type": "code",
   "execution_count": null,
   "metadata": {},
   "outputs": [],
   "source": [
    "(train_ds, val_ds), ds_info = load_train_data(cfg)\n",
    "\n",
    "example = next(iter(train_ds))\n",
    "print_example(example, ds_info)"
   ]
  },
  {
   "cell_type": "markdown",
   "metadata": {},
   "source": [
    "### Model"
   ]
  },
  {
   "cell_type": "code",
   "execution_count": null,
   "metadata": {},
   "outputs": [],
   "source": [
    "# We should incorporate visibility - do the following\n",
    "# construct visibility of all objects in each window as input feature, i.e num_windows x num_objs = 1 if visible, 0 if not\n",
    "# batch everything like usual, after processing, \n",
    "# per window, ignore embeddings of invisible objects for optimization, we will need to do this part sequentially anyway when adding up the losses"
   ]
  },
  {
   "cell_type": "markdown",
   "metadata": {},
   "source": [
    "### Training"
   ]
  },
  {
   "cell_type": "code",
   "execution_count": null,
   "metadata": {},
   "outputs": [],
   "source": []
  },
  {
   "cell_type": "markdown",
   "metadata": {},
   "source": [
    "### Testing"
   ]
  },
  {
   "cell_type": "code",
   "execution_count": null,
   "metadata": {},
   "outputs": [],
   "source": []
  }
 ],
 "metadata": {
  "kernelspec": {
   "display_name": "warp",
   "language": "python",
   "name": "python3"
  },
  "language_info": {
   "codemirror_mode": {
    "name": "ipython",
    "version": 3
   },
   "file_extension": ".py",
   "mimetype": "text/x-python",
   "name": "python",
   "nbconvert_exporter": "python",
   "pygments_lexer": "ipython3",
   "version": "3.10.13"
  }
 },
 "nbformat": 4,
 "nbformat_minor": 2
}
