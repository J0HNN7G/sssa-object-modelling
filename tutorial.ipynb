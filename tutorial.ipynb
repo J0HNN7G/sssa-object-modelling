{
 "cells": [
  {
   "cell_type": "code",
   "execution_count": null,
   "metadata": {},
   "outputs": [],
   "source": [
    "import os\n",
    "from copy import deepcopy as dc\n",
    "\n",
    "# data\n",
    "import numpy as np\n",
    "import tensorflow_datasets as tfds\n",
    "import data.movi_a\n",
    "import data.movi_b\n",
    "\n",
    "# ml\n",
    "import torch as pt\n",
    "\n",
    "# physics\n",
    "import warp as wp\n",
    "import warp.sim as wps\n",
    "\n",
    "# rendering\n",
    "import drjit as dr\n",
    "import mitsuba as mi\n",
    "from mitsuba.scalar_rgb import Transform4f as mit\n",
    "\n",
    "# point cloud\n",
    "import pytorch3d as pt3d\n",
    "from pytorch3d.structures import Meshes\n",
    "from pytorch3d.ops import sample_points_from_meshes\n",
    "from pytorch3d.loss import (\n",
    "    chamfer_distance,\n",
    ")\n",
    "\n",
    "# our stuff\n",
    "from sssa.config import cfg\n",
    "\n",
    "# setup\n",
    "wp.init()\n",
    "mi.set_variant('llvm_ad_rgb')\n",
    "print(\"All packages imported!\")"
   ]
  },
  {
   "cell_type": "markdown",
   "metadata": {},
   "source": [
    "### Config"
   ]
  },
  {
   "cell_type": "code",
   "execution_count": null,
   "metadata": {},
   "outputs": [],
   "source": [
    "# fill in your directory set up here\n",
    "project_dp = '/home/jonathan/git/sssa-object-modelling/'\n",
    "config_fp = os.path.join(project_dp, f'cfg/templates/sssa-movi_a.yaml')\n",
    "cfg.merge_from_file(config_fp)\n",
    "cfg.DATA.path = os.path.join(project_dp, 'data/sets/')\n",
    "print(cfg)"
   ]
  },
  {
   "cell_type": "markdown",
   "metadata": {},
   "source": [
    "### Data"
   ]
  },
  {
   "cell_type": "code",
   "execution_count": null,
   "metadata": {},
   "outputs": [],
   "source": [
    "train_ds = tfds.load(cfg.DATA.set, \n",
    "                        data_dir=cfg.DATA.path,\n",
    "                        split='train[:19]', \n",
    "                        shuffle_files=True)\n",
    "train_ds = train_ds.shuffle(cfg.TRAIN.GPU.shuffle_buffer_size, reshuffle_each_iteration=True)\n",
    "train_ds = tfds.as_numpy(train_ds)\n",
    "\n",
    "test_ds = tfds.load(cfg.DATA.set, \n",
    "                   data_dir=cfg.DATA.path,\n",
    "                   split='validation[:8]', \n",
    "                   shuffle_files=False)\n",
    "test_ds = tfds.as_numpy(test_ds)"
   ]
  },
  {
   "cell_type": "markdown",
   "metadata": {},
   "source": [
    "### Model"
   ]
  },
  {
   "cell_type": "code",
   "execution_count": null,
   "metadata": {},
   "outputs": [],
   "source": []
  },
  {
   "cell_type": "markdown",
   "metadata": {},
   "source": [
    "### Training"
   ]
  },
  {
   "cell_type": "code",
   "execution_count": null,
   "metadata": {},
   "outputs": [],
   "source": []
  },
  {
   "cell_type": "markdown",
   "metadata": {},
   "source": [
    "### Testing"
   ]
  },
  {
   "cell_type": "code",
   "execution_count": null,
   "metadata": {},
   "outputs": [],
   "source": []
  }
 ],
 "metadata": {
  "kernelspec": {
   "display_name": "warp",
   "language": "python",
   "name": "python3"
  },
  "language_info": {
   "codemirror_mode": {
    "name": "ipython",
    "version": 3
   },
   "file_extension": ".py",
   "mimetype": "text/x-python",
   "name": "python",
   "nbconvert_exporter": "python",
   "pygments_lexer": "ipython3",
   "version": "3.10.13"
  }
 },
 "nbformat": 4,
 "nbformat_minor": 2
}
