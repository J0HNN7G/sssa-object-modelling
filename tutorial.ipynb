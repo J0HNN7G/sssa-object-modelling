{
 "cells": [
  {
   "cell_type": "code",
   "execution_count": 1,
   "metadata": {},
   "outputs": [
    {
     "name": "stderr",
     "output_type": "stream",
     "text": [
      "2024-02-23 19:10:55.668862: I tensorflow/core/platform/cpu_feature_guard.cc:193] This TensorFlow binary is optimized with oneAPI Deep Neural Network Library (oneDNN) to use the following CPU instructions in performance-critical operations:  SSE4.1 SSE4.2 AVX AVX2 FMA\n",
      "To enable them in other operations, rebuild TensorFlow with the appropriate compiler flags.\n"
     ]
    },
    {
     "name": "stdout",
     "output_type": "stream",
     "text": [
      "Warp 0.10.1 initialized:\n",
      "   CUDA Toolkit: 11.5, Driver: 11.4\n",
      "   Devices:\n",
      "     \"cpu\"    | x86_64\n",
      "     \"cuda:0\" | NVIDIA GeForce GTX 1050 Ti with Max-Q Design (sm_61)\n",
      "   Kernel cache: /home/jonathan/.cache/warp/0.10.1\n",
      "All packages imported!\n"
     ]
    }
   ],
   "source": [
    "import os\n",
    "from copy import deepcopy as dc\n",
    "\n",
    "# data\n",
    "import numpy as np\n",
    "import tensorflow_datasets as tfds\n",
    "import data.movi_a\n",
    "import data.movi_b\n",
    "\n",
    "# ml\n",
    "import torch as pt\n",
    "\n",
    "# physics\n",
    "import warp as wp\n",
    "import warp.sim as wps\n",
    "\n",
    "# rendering\n",
    "import drjit as dr\n",
    "import mitsuba as mi\n",
    "from mitsuba.scalar_rgb import Transform4f as mit\n",
    "\n",
    "# point cloud\n",
    "import pytorch3d as pt3d\n",
    "from pytorch3d.structures import Meshes\n",
    "from pytorch3d.ops import sample_points_from_meshes\n",
    "from pytorch3d.loss import (\n",
    "    chamfer_distance,\n",
    ")\n",
    "\n",
    "# our stuff\n",
    "from sssa.config import cfg\n",
    "\n",
    "# setup\n",
    "wp.init()\n",
    "mi.set_variant('llvm_ad_rgb')\n",
    "print(\"All packages imported!\")"
   ]
  },
  {
   "cell_type": "markdown",
   "metadata": {},
   "source": [
    "### Config"
   ]
  },
  {
   "cell_type": "code",
   "execution_count": 2,
   "metadata": {},
   "outputs": [
    {
     "name": "stdout",
     "output_type": "stream",
     "text": [
      "DATA:\n",
      "  fps: 12\n",
      "  fpv: 24\n",
      "  height: 256\n",
      "  max_objs: 10\n",
      "  path: /home/jonathan/git/sssa-object-modelling/data/sets/\n",
      "  set: movi_a\n",
      "  width: 256\n",
      "MODEL:\n",
      "  DECODING:\n",
      "    BASE:\n",
      "      activation: relu\n",
      "      arch: mlp\n",
      "      batch_norm: True\n",
      "      category_est: gumbel_softmax\n",
      "      dropout: 0.1\n",
      "      hidden_size: 2048\n",
      "      num_layers: 1\n",
      "    PARAMETERS:\n",
      "      ANGULAR_VELOCITY:\n",
      "        continuous: True\n",
      "        include: True\n",
      "        num_category: -1\n",
      "      COLOUR:\n",
      "        continuous: False\n",
      "        include: True\n",
      "        num_category: 9\n",
      "      LINEAR_VELOCITY:\n",
      "        continuous: True\n",
      "        include: True\n",
      "        num_category: -1\n",
      "      MATERIAL:\n",
      "        continuous: False\n",
      "        include: True\n",
      "        num_category: 2\n",
      "      ORIENTATION:\n",
      "        continuous: True\n",
      "        include: True\n",
      "        num_category: -1\n",
      "      POSITION:\n",
      "        continuous: True\n",
      "        include: True\n",
      "        num_category: -1\n",
      "      SCALE:\n",
      "        continuous: True\n",
      "        include: True\n",
      "        num_category: -1\n",
      "  ENCODING:\n",
      "    INTERACTION:\n",
      "      arch: transformer_encoder\n",
      "      dropout: 0.1\n",
      "      embed_size: 512\n",
      "      hidden_size: 2048\n",
      "      include: True\n",
      "      num_heads: 8\n",
      "      num_layers: 1\n",
      "    PRIORS:\n",
      "      activation: relu\n",
      "      arch: mlp\n",
      "      batch_norm: True\n",
      "      cam_pose: True\n",
      "      dropout: 0.1\n",
      "      embed_size: 512\n",
      "      hidden_size: 2048\n",
      "      num_layers: 1\n",
      "      num_obj_class: 3\n",
      "      obj_class: True\n",
      "    TEMPORAL:\n",
      "      activation: relu\n",
      "      arch: resnet_18\n",
      "      batch_norm: True\n",
      "      dropout: 0.1\n",
      "      embed_size: 512\n",
      "  INPUT:\n",
      "    depth: True\n",
      "    mask: True\n",
      "    opt_flow: True\n",
      "    video: True\n",
      "    window: 3\n",
      "TEST:\n",
      "  GPU:\n",
      "    batch_size: 1\n",
      "    count: 1\n",
      "    model: NVIDIA GeForce GTX 1060\n",
      "  OBJ_MOD:\n",
      "    include: True\n",
      "  OUTPUT:\n",
      "    FN:\n",
      "      obj_mod: obj_mod.csv\n",
      "      vid_pred: vid_pred.csv\n",
      "    path: \n",
      "  VID_PRED:\n",
      "    include: True\n",
      "    spp: 16\n",
      "TRAIN:\n",
      "  GPU:\n",
      "    batch_size: 1\n",
      "    count: 1\n",
      "    model: NVIDIA GeForce RTX A4000\n",
      "    shuffle_buffer_size: 1000\n",
      "  OPTIM:\n",
      "    beta1: 0.9\n",
      "    beta2: 0.999\n",
      "    lr: 0.001\n",
      "    optim: adam\n",
      "    weight_decay: 0.0\n",
      "  OUTPUT:\n",
      "    FN:\n",
      "      config: config.yaml\n",
      "      history: history.csv\n",
      "      log: log.txt\n",
      "      weight: weights.pt\n",
      "    path: \n",
      "  STAGE_1:\n",
      "    forecast: 3\n",
      "    include: True\n",
      "    num_epoch: 100\n",
      "  STAGE_2:\n",
      "    forecast: 3\n",
      "    include: True\n",
      "    num_epoch: 100\n",
      "    spp: 4\n",
      "    weight_mse: 1.0\n",
      "  self_sup: True\n"
     ]
    }
   ],
   "source": [
    "# fill in your directory set up here\n",
    "project_dp = '/home/jonathan/git/sssa-object-modelling/'\n",
    "config_fp = os.path.join(project_dp, f'cfg/templates/sssa-movi_a.yaml')\n",
    "cfg.merge_from_file(config_fp)\n",
    "cfg.DATA.path = os.path.join(project_dp, 'data/sets/')\n",
    "print(cfg)"
   ]
  },
  {
   "cell_type": "markdown",
   "metadata": {},
   "source": [
    "### Data"
   ]
  },
  {
   "cell_type": "code",
   "execution_count": 3,
   "metadata": {},
   "outputs": [
    {
     "name": "stderr",
     "output_type": "stream",
     "text": [
      "WARNING:absl:You use TensorFlow DType <dtype: 'float32'> in tfds.features This will soon be deprecated in favor of NumPy DTypes. In the meantime it was converted to float32.\n",
      "WARNING:absl:You use TensorFlow DType <dtype: 'int32'> in tfds.features This will soon be deprecated in favor of NumPy DTypes. In the meantime it was converted to int32.\n",
      "WARNING:absl:You use TensorFlow DType <dtype: 'uint16'> in tfds.features This will soon be deprecated in favor of NumPy DTypes. In the meantime it was converted to uint16.\n",
      "WARNING:absl:You use TensorFlow DType <dtype: 'uint8'> in tfds.features This will soon be deprecated in favor of NumPy DTypes. In the meantime it was converted to uint8.\n",
      "2024-02-23 19:11:00.677931: I tensorflow/compiler/xla/stream_executor/cuda/cuda_gpu_executor.cc:981] successful NUMA node read from SysFS had negative value (-1), but there must be at least one NUMA node, so returning NUMA node zero\n",
      "2024-02-23 19:11:00.679503: I tensorflow/compiler/xla/stream_executor/cuda/cuda_gpu_executor.cc:981] successful NUMA node read from SysFS had negative value (-1), but there must be at least one NUMA node, so returning NUMA node zero\n",
      "2024-02-23 19:11:00.679916: I tensorflow/compiler/xla/stream_executor/cuda/cuda_gpu_executor.cc:981] successful NUMA node read from SysFS had negative value (-1), but there must be at least one NUMA node, so returning NUMA node zero\n",
      "2024-02-23 19:11:00.680480: I tensorflow/core/platform/cpu_feature_guard.cc:193] This TensorFlow binary is optimized with oneAPI Deep Neural Network Library (oneDNN) to use the following CPU instructions in performance-critical operations:  SSE4.1 SSE4.2 AVX AVX2 FMA\n",
      "To enable them in other operations, rebuild TensorFlow with the appropriate compiler flags.\n",
      "2024-02-23 19:11:00.681353: I tensorflow/compiler/xla/stream_executor/cuda/cuda_gpu_executor.cc:981] successful NUMA node read from SysFS had negative value (-1), but there must be at least one NUMA node, so returning NUMA node zero\n",
      "2024-02-23 19:11:00.682001: I tensorflow/compiler/xla/stream_executor/cuda/cuda_gpu_executor.cc:981] successful NUMA node read from SysFS had negative value (-1), but there must be at least one NUMA node, so returning NUMA node zero\n",
      "2024-02-23 19:11:00.682488: I tensorflow/compiler/xla/stream_executor/cuda/cuda_gpu_executor.cc:981] successful NUMA node read from SysFS had negative value (-1), but there must be at least one NUMA node, so returning NUMA node zero\n",
      "2024-02-23 19:11:02.089612: I tensorflow/compiler/xla/stream_executor/cuda/cuda_gpu_executor.cc:981] successful NUMA node read from SysFS had negative value (-1), but there must be at least one NUMA node, so returning NUMA node zero\n",
      "2024-02-23 19:11:02.089937: I tensorflow/compiler/xla/stream_executor/cuda/cuda_gpu_executor.cc:981] successful NUMA node read from SysFS had negative value (-1), but there must be at least one NUMA node, so returning NUMA node zero\n",
      "2024-02-23 19:11:02.090210: I tensorflow/compiler/xla/stream_executor/cuda/cuda_gpu_executor.cc:981] successful NUMA node read from SysFS had negative value (-1), but there must be at least one NUMA node, so returning NUMA node zero\n",
      "2024-02-23 19:11:02.090430: I tensorflow/core/common_runtime/gpu/gpu_device.cc:1613] Created device /job:localhost/replica:0/task:0/device:GPU:0 with 3036 MB memory:  -> device: 0, name: NVIDIA GeForce GTX 1050 Ti with Max-Q Design, pci bus id: 0000:01:00.0, compute capability: 6.1\n",
      "WARNING:absl:`FeatureConnector.dtype` is deprecated. Please change your code to use NumPy with the field `FeatureConnector.np_dtype` or use TensorFlow with the field `FeatureConnector.tf_dtype`.\n",
      "WARNING:absl:`FeatureConnector.dtype` is deprecated. Please change your code to use NumPy with the field `FeatureConnector.np_dtype` or use TensorFlow with the field `FeatureConnector.tf_dtype`.\n",
      "WARNING:absl:`FeatureConnector.dtype` is deprecated. Please change your code to use NumPy with the field `FeatureConnector.np_dtype` or use TensorFlow with the field `FeatureConnector.tf_dtype`.\n",
      "WARNING:absl:`FeatureConnector.dtype` is deprecated. Please change your code to use NumPy with the field `FeatureConnector.np_dtype` or use TensorFlow with the field `FeatureConnector.tf_dtype`.\n",
      "WARNING:absl:`FeatureConnector.dtype` is deprecated. Please change your code to use NumPy with the field `FeatureConnector.np_dtype` or use TensorFlow with the field `FeatureConnector.tf_dtype`.\n",
      "WARNING:absl:`FeatureConnector.dtype` is deprecated. Please change your code to use NumPy with the field `FeatureConnector.np_dtype` or use TensorFlow with the field `FeatureConnector.tf_dtype`.\n",
      "WARNING:absl:`FeatureConnector.dtype` is deprecated. Please change your code to use NumPy with the field `FeatureConnector.np_dtype` or use TensorFlow with the field `FeatureConnector.tf_dtype`.\n",
      "WARNING:absl:`FeatureConnector.dtype` is deprecated. Please change your code to use NumPy with the field `FeatureConnector.np_dtype` or use TensorFlow with the field `FeatureConnector.tf_dtype`.\n",
      "WARNING:absl:`FeatureConnector.dtype` is deprecated. Please change your code to use NumPy with the field `FeatureConnector.np_dtype` or use TensorFlow with the field `FeatureConnector.tf_dtype`.\n",
      "WARNING:absl:`FeatureConnector.dtype` is deprecated. Please change your code to use NumPy with the field `FeatureConnector.np_dtype` or use TensorFlow with the field `FeatureConnector.tf_dtype`.\n"
     ]
    }
   ],
   "source": [
    "train_ds = tfds.load(cfg.DATA.set, \n",
    "                        data_dir=cfg.DATA.path,\n",
    "                        split='train[:19]', \n",
    "                        shuffle_files=True)\n",
    "train_ds = train_ds.shuffle(cfg.TRAIN.GPU.shuffle_buffer_size, reshuffle_each_iteration=True)\n",
    "train_ds = tfds.as_numpy(train_ds)\n",
    "\n",
    "test_ds = tfds.load(cfg.DATA.set, \n",
    "                   data_dir=cfg.DATA.path,\n",
    "                   split='validation[:8]', \n",
    "                   shuffle_files=False)\n",
    "test_ds = tfds.as_numpy(test_ds)"
   ]
  },
  {
   "cell_type": "markdown",
   "metadata": {},
   "source": [
    "### Model"
   ]
  },
  {
   "cell_type": "code",
   "execution_count": null,
   "metadata": {},
   "outputs": [],
   "source": []
  },
  {
   "cell_type": "markdown",
   "metadata": {},
   "source": [
    "### Training"
   ]
  },
  {
   "cell_type": "code",
   "execution_count": null,
   "metadata": {},
   "outputs": [],
   "source": []
  },
  {
   "cell_type": "markdown",
   "metadata": {},
   "source": [
    "### Testing"
   ]
  },
  {
   "cell_type": "code",
   "execution_count": null,
   "metadata": {},
   "outputs": [],
   "source": []
  }
 ],
 "metadata": {
  "kernelspec": {
   "display_name": "warp",
   "language": "python",
   "name": "python3"
  },
  "language_info": {
   "codemirror_mode": {
    "name": "ipython",
    "version": 3
   },
   "file_extension": ".py",
   "mimetype": "text/x-python",
   "name": "python",
   "nbconvert_exporter": "python",
   "pygments_lexer": "ipython3",
   "version": "3.10.13"
  }
 },
 "nbformat": 4,
 "nbformat_minor": 2
}
